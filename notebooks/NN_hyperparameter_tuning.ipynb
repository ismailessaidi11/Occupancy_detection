{
  "cells": [
    {
      "cell_type": "code",
      "execution_count": 28,
      "metadata": {
        "id": "9CDiASBlasxy"
      },
      "outputs": [],
      "source": [
        "#import library\n",
        "import numpy as np\n",
        "import pandas as pd\n",
        "import seaborn as sns; sns.set()\n",
        "import math\n",
        "import time\n",
        "import matplotlib.pyplot as plt\n",
        "\n",
        "import matplotlib.pyplot as plt\n",
        "\n",
        "from sklearn.model_selection import train_test_split\n",
        "from sklearn.metrics import accuracy_score, confusion_matrix, classification_report, mean_squared_error\n",
        "from sklearn.preprocessing import MinMaxScaler\n",
        "\n",
        "from keras.models import Sequential\n",
        "from keras.layers import Input, Dense, Activation, Dropout\n",
        "from keras.regularizers import l2, l1\n",
        "from keras.metrics import BinaryAccuracy"
      ]
    },
    {
      "cell_type": "markdown",
      "source": [
        "# Data Processing"
      ],
      "metadata": {
        "id": "nYiBsqjjqMrH"
      }
    },
    {
      "cell_type": "markdown",
      "source": [
        "## Splitting data"
      ],
      "metadata": {
        "id": "6cEFB_4XFfT5"
      }
    },
    {
      "cell_type": "code",
      "source": [
        "def split_data(X, y):\n",
        "  X_train_val, X_test, y_train_val, y_test = train_test_split(X, y, test_size=0.2, random_state=42)\n",
        "\n",
        "  X_train, X_val, y_train, y_val = train_test_split(X_train_val, y_train_val, test_size=0.25, random_state=42)  # 0.25 x 0.8 = 0.2\n",
        "\n",
        "  # Print the sizes of each set\n",
        "  print(f\"Training set size: {X_train.shape[0]}\")\n",
        "  print(f\"Validation set size: {X_val.shape[0]}\")\n",
        "  print(f\"Test set size: {X_test.shape[0]}\")\n",
        "\n",
        "  return X_train, X_val, X_test, y_train, y_val, y_test"
      ],
      "metadata": {
        "id": "W6R_iL_DFdWX"
      },
      "execution_count": 10,
      "outputs": []
    },
    {
      "cell_type": "markdown",
      "metadata": {
        "id": "_u1ppJ5z-wcm"
      },
      "source": [
        "## Scaling"
      ]
    },
    {
      "cell_type": "code",
      "source": [
        "def scale_data(scaler, X_train, X_val, X_test):\n",
        "  columns = X_train.columns\n",
        "  scaler.fit(np.array(X_train[columns]))\n",
        "  X_test[columns] = scaler.transform(np.array(X_test[columns]))\n",
        "  X_val[columns] = scaler.transform(np.array(X_val[columns]))\n",
        "  X_train[columns] = scaler.transform(np.array(X_train[columns]))\n",
        "  return X_train, X_val, X_test"
      ],
      "metadata": {
        "id": "enZA_pIPGZzi"
      },
      "execution_count": 14,
      "outputs": []
    },
    {
      "cell_type": "markdown",
      "metadata": {
        "id": "A5RySSYOasyQ"
      },
      "source": [
        "## Neural Network"
      ]
    },
    {
      "cell_type": "code",
      "execution_count": 33,
      "metadata": {
        "id": "klNn2pNoN6zG"
      },
      "outputs": [],
      "source": [
        "def create_model(input_dim, kernel_regularizer = None, dropout = False):\n",
        "  model = Sequential()\n",
        "    # Input layer\n",
        "  model.add(Input(shape=(input_dim,)))\n",
        "  # First Hidden layer\n",
        "  model.add(Dense(32, activation='relu', kernel_regularizer=kernel_regularizer))\n",
        "  if dropout:\n",
        "    model.add(Dropout(0.2))\n",
        "  model.add(Dense(16, activation='relu', kernel_regularizer=kernel_regularizer))\n",
        "  model.add(Dense(1, activation='sigmoid'))\n",
        "  model.compile(optimizer='adam',\n",
        "                loss='binary_crossentropy',\n",
        "                metrics=['accuracy'])\n",
        "  return model\n"
      ]
    },
    {
      "cell_type": "code",
      "source": [
        "# Grid Search function for Hyperparameter tuning\n",
        "def hyperparameter_tuning(input_dim, X_train, y_train, X_val, y_val, kernel_regularizers, lambdas, dropouts, epochs, batch_size_list):\n",
        "    hyperparameter_results = []\n",
        "\n",
        "    for kernel_regularizer in kernel_regularizers:\n",
        "      for dropout in dropouts:\n",
        "        for batch_size in batch_size_list:\n",
        "          if kernel_regularizer is not None:\n",
        "            for lambda_value in lambdas:\n",
        "              reg = kernel_regularizer(lambda_value)\n",
        "              print(f\"Training model with kernel_regularizer = {kernel_regularizer}, lambda = {lambda_value}, dropout = {dropout}, epochs = {epochs}, batch size = {batch_size}\")\n",
        "              model = create_model(input_dim, reg, dropout)\n",
        "              start_time = time.time()\n",
        "              history = model.fit(X_train, y_train, epochs=epochs, batch_size=batch_size, validation_data=(X_val, y_val), verbose=0)\n",
        "              training_time = time.time() - start_time\n",
        "          else:\n",
        "            lambda_value = 0\n",
        "            reg = None\n",
        "            print(f\"Training model with kernel_regularizer = {kernel_regularizer}, dropout = {dropout}, epochs = {epochs}, batch size = {batch_size}\")\n",
        "            model = create_model(input_dim, reg, dropout)\n",
        "            start_time = time.time()\n",
        "            history = model.fit(X_train, y_train, epochs=epochs, batch_size=batch_size, validation_data=(X_val, y_val), verbose=0)\n",
        "            training_time = time.time() - start_time\n",
        "          hyperparameter_results.append({\n",
        "                            'model': model,\n",
        "                            'history': history,\n",
        "                            'kernel_regularizer': kernel_regularizer,\n",
        "                            'lambda_value': lambda_value,\n",
        "                            'dropout': dropout,\n",
        "                            'batch_size': batch_size,\n",
        "                            'training_time': training_time\n",
        "          })\n",
        "    return hyperparameter_results"
      ],
      "metadata": {
        "id": "_pFndS0sahqg"
      },
      "execution_count": 18,
      "outputs": []
    },
    {
      "cell_type": "code",
      "source": [
        "# Evaluate the histories and select the best model\n",
        "def select_best_model(hyperparameter_results):\n",
        "    best_accuracy = 0\n",
        "    best_hyperparameters = None\n",
        "\n",
        "    for result in hyperparameter_results:\n",
        "        val_accuracy = result['history'].history['val_accuracy'][-1]\n",
        "        if val_accuracy > best_accuracy:\n",
        "            best_accuracy = val_accuracy\n",
        "            best_hyperparameters = result\n",
        "\n",
        "    return best_hyperparameters"
      ],
      "metadata": {
        "id": "NrPPcCTMbsGD"
      },
      "execution_count": 19,
      "outputs": []
    },
    {
      "cell_type": "code",
      "source": [
        "# Final evaluation function\n",
        "def evaluate_final(best_hyperparameters, X_train, y_train, X_test, y_test):\n",
        "    # Evaluate the best model\n",
        "    train_accuracy = round((best_hyperparameters['model'].evaluate(X_train, y_train, verbose=0)[1] * 100), 2)\n",
        "    test_accuracy = round((best_hyperparameters['model'].evaluate(X_test, y_test, verbose=0)[1] * 100), 2)\n",
        "\n",
        "    # Print the best model's performance\n",
        "    print(f\"Best Model - batch size = {best_hyperparameters['batch_size']}, kernel_regularizer = {best_hyperparameters['kernel_regularizer']}, dropout = {best_hyperparameters['dropout']}\")\n",
        "    print(f\"Training Accuracy: {train_accuracy}%\")\n",
        "    print(f\"Test Accuracy: {test_accuracy}%\")\n",
        "\n",
        "    return {\n",
        "        'train_accuracy': train_accuracy,\n",
        "        'test_accuracy': test_accuracy,\n",
        "        'best_hyperparameters': best_hyperparameters\n",
        "    }"
      ],
      "metadata": {
        "id": "YWKX-B22bx0M"
      },
      "execution_count": 20,
      "outputs": []
    },
    {
      "cell_type": "code",
      "source": [
        "# hyperparameters\n",
        "epochs = 100\n",
        "kernel_regularizers = [None, l2]\n",
        "lambdas = [0.01, 0.05]\n",
        "dropouts = [False, True]\n",
        "batch_size_list = [16, 32, 64]"
      ],
      "metadata": {
        "id": "mTAsKH6ToiwU"
      },
      "execution_count": 21,
      "outputs": []
    },
    {
      "cell_type": "markdown",
      "source": [
        "# Room occupancy dataset"
      ],
      "metadata": {
        "id": "lep6YRjRfhKo"
      }
    },
    {
      "cell_type": "code",
      "source": [
        "df = pd.read_csv('/content/sample_data/room_occupancy_detection_data.csv')"
      ],
      "metadata": {
        "id": "kXzhxNO2fz38"
      },
      "execution_count": null,
      "outputs": []
    },
    {
      "cell_type": "code",
      "source": [
        "no_time_feature_columns = df.columns.drop([\"occupancy\", \"datetime\", \"hour_of_the_day\", \"day_number_of_the_week\", \"day_of_year\"]).tolist()\n",
        "\n",
        "X = df[no_time_feature_columns]\n",
        "y = df[\"occupancy\"]\n",
        "X_train, X_val, X_test, y_train, y_val, y_test = split_data(X, y)\n",
        "\n",
        "scaler = MinMaxScaler()\n",
        "X_train, X_val, X_test = scale_data(scaler, X_train, X_val, X_test)\n",
        "\n",
        "input_dim = X_train.shape[1]\n",
        "threshold = 0.45\n",
        "print(f\"input dimension: {input_dim}\")\n",
        "print(f\"decision threshold: {threshold}\")"
      ],
      "metadata": {
        "colab": {
          "base_uri": "https://localhost:8080/"
        },
        "id": "KywoPgmtFknt",
        "outputId": "e7374699-4bc8-46fa-8028-9a34acbce9b0"
      },
      "execution_count": 13,
      "outputs": [
        {
          "output_type": "stream",
          "name": "stdout",
          "text": [
            "Training set size: 10809\n",
            "Validation set size: 3603\n",
            "Test set size: 3604\n"
          ]
        }
      ]
    },
    {
      "cell_type": "code",
      "source": [
        "# Perform hyperparameter tuning\n",
        "hyperparameter_results = hyperparameter_tuning(input_dim, X_train, y_train, X_val, y_val,kernel_regularizers, lambdas, dropouts,epochs, batch_size_list)\n",
        "\n",
        "# Select the best model based on validation accuracy\n",
        "best_hyperparameters = select_best_model(hyperparameter_results)"
      ],
      "metadata": {
        "colab": {
          "base_uri": "https://localhost:8080/"
        },
        "id": "VMKAuUG_ogOl",
        "outputId": "d2333604-6dc9-4a98-f2db-ee02ad9b7d0e"
      },
      "execution_count": null,
      "outputs": [
        {
          "output_type": "stream",
          "name": "stdout",
          "text": [
            "Training model with kernel_regularizer = None, dropout = False, epochs = 100, batch size = 16\n",
            "Training model with kernel_regularizer = None, dropout = False, epochs = 100, batch size = 32\n",
            "Training model with kernel_regularizer = None, dropout = False, epochs = 100, batch size = 64\n",
            "Training model with kernel_regularizer = None, dropout = True, epochs = 100, batch size = 16\n",
            "Training model with kernel_regularizer = None, dropout = True, epochs = 100, batch size = 32\n",
            "Training model with kernel_regularizer = None, dropout = True, epochs = 100, batch size = 64\n",
            "Training model with kernel_regularizer = <class 'keras.src.regularizers.L2'>, lambda = 0.01, dropout = False, epochs = 100, batch size = 16\n",
            "Training model with kernel_regularizer = <class 'keras.src.regularizers.L2'>, lambda = 0.05, dropout = False, epochs = 100, batch size = 16\n",
            "Training model with kernel_regularizer = <class 'keras.src.regularizers.L2'>, lambda = 0.01, dropout = False, epochs = 100, batch size = 32\n",
            "Training model with kernel_regularizer = <class 'keras.src.regularizers.L2'>, lambda = 0.05, dropout = False, epochs = 100, batch size = 32\n",
            "Training model with kernel_regularizer = <class 'keras.src.regularizers.L2'>, lambda = 0.01, dropout = False, epochs = 100, batch size = 64\n",
            "Training model with kernel_regularizer = <class 'keras.src.regularizers.L2'>, lambda = 0.05, dropout = False, epochs = 100, batch size = 64\n",
            "Training model with kernel_regularizer = <class 'keras.src.regularizers.L2'>, lambda = 0.01, dropout = True, epochs = 100, batch size = 16\n",
            "Training model with kernel_regularizer = <class 'keras.src.regularizers.L2'>, lambda = 0.05, dropout = True, epochs = 100, batch size = 16\n",
            "Training model with kernel_regularizer = <class 'keras.src.regularizers.L2'>, lambda = 0.01, dropout = True, epochs = 100, batch size = 32\n",
            "Training model with kernel_regularizer = <class 'keras.src.regularizers.L2'>, lambda = 0.05, dropout = True, epochs = 100, batch size = 32\n",
            "Training model with kernel_regularizer = <class 'keras.src.regularizers.L2'>, lambda = 0.01, dropout = True, epochs = 100, batch size = 64\n",
            "Training model with kernel_regularizer = <class 'keras.src.regularizers.L2'>, lambda = 0.05, dropout = True, epochs = 100, batch size = 64\n",
            "Best Model - kernel_regularizer = None, dropout = False\n",
            "Training Accuracy: 91.69%\n",
            "Test Accuracy: 90.2%\n",
            "Final Results: {'train_accuracy': 91.69, 'test_accuracy': 90.2, 'best_hyperparameters': {'model': <keras.src.engine.sequential.Sequential object at 0x7ba20bea5240>, 'history': <keras.src.callbacks.History object at 0x7ba20b60ea70>, 'kernel_regularizer': None, 'lambda_value': 0, 'dropout': False, 'batch_size': 16, 'training_time': 142.95032167434692}}\n"
          ]
        }
      ]
    },
    {
      "cell_type": "code",
      "source": [
        "# Evaluate the best model on the test set\n",
        "final_results = evaluate_final(best_hyperparameters, X_train, y_train, X_test, y_test)\n",
        "\n",
        "# Print final results\n",
        "print(f\"Final Results: {final_results}\")"
      ],
      "metadata": {
        "colab": {
          "base_uri": "https://localhost:8080/"
        },
        "id": "0hUhGTjrMX6x",
        "outputId": "216b90d6-0641-4ae5-df0d-7618307443c7"
      },
      "execution_count": null,
      "outputs": [
        {
          "output_type": "stream",
          "name": "stdout",
          "text": [
            "Best Model - batch size = 16, kernel_regularizer = None, dropout = False\n",
            "Training Accuracy: 91.69%\n",
            "Test Accuracy: 90.2%\n",
            "Final Results: {'train_accuracy': 91.69, 'test_accuracy': 90.2, 'best_hyperparameters': {'model': <keras.src.engine.sequential.Sequential object at 0x7ba20bea5240>, 'history': <keras.src.callbacks.History object at 0x7ba20b60ea70>, 'kernel_regularizer': None, 'lambda_value': 0, 'dropout': False, 'batch_size': 16, 'training_time': 142.95032167434692}}\n"
          ]
        }
      ]
    },
    {
      "cell_type": "code",
      "source": [
        "best_batch_size = final_results['best_hyperparameters']['batch_size']\n",
        "best_epochs = epochs\n",
        "best_model = best_hyperparameters[\"model\"]"
      ],
      "metadata": {
        "id": "w5tuAt5wpGYt"
      },
      "execution_count": null,
      "outputs": []
    },
    {
      "cell_type": "code",
      "execution_count": null,
      "metadata": {
        "id": "olBSetqisLiJ",
        "colab": {
          "base_uri": "https://localhost:8080/",
          "height": 486
        },
        "outputId": "29a5dc91-f0b5-423e-c2ff-4da911040873"
      },
      "outputs": [
        {
          "output_type": "display_data",
          "data": {
            "text/plain": [
              "<Figure size 640x480 with 2 Axes>"
            ],
            "image/png": "[encoded data removed]"
          },
          "metadata": {}
        }
      ],
      "source": [
        "y_pred = best_model.predict(X_test, verbose = 0)\n",
        "y_pred = [1 if i >= threshold else 0 for i in y_pred]\n",
        "\n",
        "plt.title(\"Neural Network Confusion Matrix for Test Data\", fontdict={'fontsize':18})\n",
        "ax = sns.heatmap(confusion_matrix(y_test, y_pred), annot=True, fmt=\"d\", cmap=\"Blues\", xticklabels=[\"0\", \"1\"], yticklabels=[\"0\", \"1\"])\n",
        "ax.set_xlabel('Predicted Labels', fontsize=14)\n",
        "ax.set_ylabel('Actual Labels', fontsize=14)\n",
        "plt.show()"
      ]
    },
    {
      "cell_type": "markdown",
      "source": [
        "# Augmented Tera dataset"
      ],
      "metadata": {
        "id": "E8JwN4pwfeFB"
      }
    },
    {
      "cell_type": "code",
      "source": [
        "df = pd.read_csv('/content/sample_data/augmented_tera.csv')"
      ],
      "metadata": {
        "id": "6JeFjzLygDIi"
      },
      "execution_count": 25,
      "outputs": []
    },
    {
      "cell_type": "code",
      "source": [
        "no_time_feature_columns = df.columns.drop([\"occupancy\", \"datetime\", \"hour_of_the_day\", \"day_number_of_the_week\", \"day_of_year\"]).tolist()\n",
        "\n",
        "X = df[no_time_feature_columns]\n",
        "y = df[\"occupancy\"]\n",
        "X_train, X_val, X_test, y_train, y_val, y_test = split_data(X, y)\n",
        "\n",
        "scaler = MinMaxScaler()\n",
        "X_train, X_val, X_test = scale_data(scaler, X_train, X_val, X_test)\n",
        "\n",
        "input_dim = X_train.shape[1]\n",
        "threshold = 0.45\n",
        "print(f\"input dimension: {input_dim}\")\n",
        "print(f\"decision threshold: {threshold}\")"
      ],
      "metadata": {
        "colab": {
          "base_uri": "https://localhost:8080/"
        },
        "id": "mQWKYrW5gNMB",
        "outputId": "a8ebf781-3739-40c4-9b0d-d6783c83b8bd"
      },
      "execution_count": 26,
      "outputs": [
        {
          "output_type": "stream",
          "name": "stdout",
          "text": [
            "Training set size: 10809\n",
            "Validation set size: 3603\n",
            "Test set size: 3604\n",
            "input dimension: 17\n",
            "decision threshold: 0.45\n"
          ]
        }
      ]
    },
    {
      "cell_type": "code",
      "source": [
        "# Perform hyperparameter tuning\n",
        "hyperparameter_results = hyperparameter_tuning(input_dim, X_train, y_train, X_val, y_val,kernel_regularizers, lambdas, dropouts,epochs, batch_size_list)\n",
        "\n",
        "# Select the best model based on validation accuracy\n",
        "best_hyperparameters = select_best_model(hyperparameter_results)"
      ],
      "metadata": {
        "colab": {
          "base_uri": "https://localhost:8080/"
        },
        "id": "q5wIY12HfWZJ",
        "outputId": "450b2dc2-10bf-4115-edca-a39229fbb04a"
      },
      "execution_count": 29,
      "outputs": [
        {
          "output_type": "stream",
          "name": "stdout",
          "text": [
            "Training model with kernel_regularizer = None, dropout = False, epochs = 100, batch size = 16\n",
            "Training model with kernel_regularizer = None, dropout = False, epochs = 100, batch size = 32\n",
            "Training model with kernel_regularizer = None, dropout = False, epochs = 100, batch size = 64\n",
            "Training model with kernel_regularizer = None, dropout = True, epochs = 100, batch size = 16\n",
            "Training model with kernel_regularizer = None, dropout = True, epochs = 100, batch size = 32\n",
            "Training model with kernel_regularizer = None, dropout = True, epochs = 100, batch size = 64\n",
            "Training model with kernel_regularizer = <class 'keras.src.regularizers.regularizers.L2'>, lambda = 0.01, dropout = False, epochs = 100, batch size = 16\n",
            "Training model with kernel_regularizer = <class 'keras.src.regularizers.regularizers.L2'>, lambda = 0.05, dropout = False, epochs = 100, batch size = 16\n",
            "Training model with kernel_regularizer = <class 'keras.src.regularizers.regularizers.L2'>, lambda = 0.01, dropout = False, epochs = 100, batch size = 32\n",
            "Training model with kernel_regularizer = <class 'keras.src.regularizers.regularizers.L2'>, lambda = 0.05, dropout = False, epochs = 100, batch size = 32\n",
            "Training model with kernel_regularizer = <class 'keras.src.regularizers.regularizers.L2'>, lambda = 0.01, dropout = False, epochs = 100, batch size = 64\n",
            "Training model with kernel_regularizer = <class 'keras.src.regularizers.regularizers.L2'>, lambda = 0.05, dropout = False, epochs = 100, batch size = 64\n",
            "Training model with kernel_regularizer = <class 'keras.src.regularizers.regularizers.L2'>, lambda = 0.01, dropout = True, epochs = 100, batch size = 16\n",
            "Training model with kernel_regularizer = <class 'keras.src.regularizers.regularizers.L2'>, lambda = 0.05, dropout = True, epochs = 100, batch size = 16\n",
            "Training model with kernel_regularizer = <class 'keras.src.regularizers.regularizers.L2'>, lambda = 0.01, dropout = True, epochs = 100, batch size = 32\n",
            "Training model with kernel_regularizer = <class 'keras.src.regularizers.regularizers.L2'>, lambda = 0.05, dropout = True, epochs = 100, batch size = 32\n",
            "Training model with kernel_regularizer = <class 'keras.src.regularizers.regularizers.L2'>, lambda = 0.01, dropout = True, epochs = 100, batch size = 64\n",
            "Training model with kernel_regularizer = <class 'keras.src.regularizers.regularizers.L2'>, lambda = 0.05, dropout = True, epochs = 100, batch size = 64\n"
          ]
        }
      ]
    },
    {
      "cell_type": "code",
      "source": [
        "# Evaluate the best model on the test set\n",
        "final_results = evaluate_final(best_hyperparameters, X_train, y_train, X_test, y_test)\n",
        "\n",
        "# Print final results\n",
        "print(f\"Final Results: {final_results}\")"
      ],
      "metadata": {
        "colab": {
          "base_uri": "https://localhost:8080/"
        },
        "id": "lnUSw9vefXDf",
        "outputId": "8dd064eb-756d-4298-e31d-3fbd2e92529a"
      },
      "execution_count": 30,
      "outputs": [
        {
          "output_type": "stream",
          "name": "stdout",
          "text": [
            "Best Model - batch size = 16, kernel_regularizer = None, dropout = False\n",
            "Training Accuracy: 85.88%\n",
            "Test Accuracy: 84.54%\n",
            "Final Results: {'train_accuracy': 85.88, 'test_accuracy': 84.54, 'best_hyperparameters': {'model': <Sequential name=sequential_5, built=True>, 'history': <keras.src.callbacks.history.History object at 0x78d921122e00>, 'kernel_regularizer': None, 'lambda_value': 0, 'dropout': False, 'batch_size': 16, 'training_time': 179.73412108421326}}\n"
          ]
        }
      ]
    },
    {
      "cell_type": "code",
      "source": [
        "best_batch_size = final_results['best_hyperparameters']['batch_size']\n",
        "best_epochs = epochs\n",
        "best_model = best_hyperparameters[\"model\"]"
      ],
      "metadata": {
        "id": "oNBa11aIhRcp"
      },
      "execution_count": 31,
      "outputs": []
    },
    {
      "cell_type": "code",
      "source": [
        "y_pred = best_model.predict(X_test, verbose = 0)\n",
        "y_pred = [1 if i >= threshold else 0 for i in y_pred]\n",
        "\n",
        "plt.title(\"Neural Network Confusion Matrix for Test Data\", fontdict={'fontsize':18})\n",
        "ax = sns.heatmap(confusion_matrix(y_test, y_pred), annot=True, fmt=\"d\", cmap=\"Blues\", xticklabels=[\"0\", \"1\"], yticklabels=[\"0\", \"1\"])\n",
        "ax.set_xlabel('Predicted Labels', fontsize=14)\n",
        "ax.set_ylabel('Actual Labels', fontsize=14)\n",
        "plt.show()"
      ],
      "metadata": {
        "colab": {
          "base_uri": "https://localhost:8080/",
          "height": 486
        },
        "id": "8m3ZjBj3p8_T",
        "outputId": "492a4877-f300-4bbc-d488-5e6578cca44d"
      },
      "execution_count": 32,
      "outputs": [
        {
          "output_type": "display_data",
          "data": {
            "text/plain": [
              "<Figure size 640x480 with 2 Axes>"
            ],
            "image/png": "[encoded data removed]"
          },
          "metadata": {}
        }
      ]
    }
  ],
  "metadata": {
    "colab": {
      "provenance": [],
      "collapsed_sections": [
        "A5RySSYOasyQ"
      ]
    },
    "kernelspec": {
      "display_name": "Python 3",
      "language": "python",
      "name": "python3"
    },
    "language_info": {
      "codemirror_mode": {
        "name": "ipython",
        "version": 3
      },
      "file_extension": ".py",
      "mimetype": "text/x-python",
      "name": "python",
      "nbconvert_exporter": "python",
      "pygments_lexer": "ipython3",
      "version": "3.10.12"
    }
  },
  "nbformat": 4,
  "nbformat_minor": 0
}